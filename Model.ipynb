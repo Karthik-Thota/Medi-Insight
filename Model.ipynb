{
 "cells": [
  {
   "cell_type": "code",
   "execution_count": 66,
   "metadata": {},
   "outputs": [],
   "source": [
    "import numpy as np\n",
    "import pandas as pd\n",
    "import nltk\n",
    "# nltk.download('punkt') # one time execution\n",
    "import re\n",
    "\n",
    "\n"
   ]
  },
  {
   "cell_type": "code",
   "execution_count": 67,
   "metadata": {},
   "outputs": [],
   "source": [
    "entire_df = pd.read_csv(\"capstone_data.csv\")"
   ]
  },
  {
   "cell_type": "code",
   "execution_count": 68,
   "metadata": {},
   "outputs": [
    {
     "data": {
      "text/plain": [
       "\"Introduction\\n\\nThe sudden emergence of severe acute respiratory syndrome (SARS) in April 2003 caused much concern and reaction. Refereed medical journals ever since have been rife with articles about SARS. The eventual containment and treatment of SARS has seen a diminution of the massive media publicity and overt public concern. However, fears have recently surfaced about the potential for re-emergence of SARS in the near future. As we confront the potential need to return to more stringent infection control measures once again, this is an appropriate time to reflect on the ethical values that underlay the strict visitation restrictions imposed in hospitals in Ontario during the SARS outbreak and the moderate restrictions in place since SARS. This reflection will facilitate future decision making with respect to visitation restrictions.\\n\\nWhen public health trumps civil liberties: the collateral damage associated with victims of SARS\\n\\nOur infectious disease colleagues are adamant that restricting the movement of people into and around the hospital setting are effective clinical and epidemiological strategies that will help protect both the vulnerable patient population and health care providers themselves, who need to stay healthy so that they may care for their patients. One might argue, then, that visitation restrictions are both enhancing and supportive of public health protection. This position recognizes that there are times when public health protection overrides the protection of individual freedom. It could be argued that visitation restrictions, in light of a potential outbreak of a contagious disease, are ethically sound because of the compelling need to protect public health.However, even when public health concerns trump individual liberties, the ethical operationalization of this value would demand that 'those whose rights are being infringed' need to be managed in 'an ethical and even-handed manner so that they are not unfairly or disproportionately harmed by such measures' [1].This is an important and far-reaching consideration because SARS caused collateral damage and we know that the implementation of visitation restrictions will have an impact on a broad range of individuals. Understandably, those patients who were confirmed or suspected of being carriers of contagious pathogens were easily and directly identified. However, there were people who had not demonstrated any risk or epidemiological link to a contagious disease but who experienced quarantine, restriction of movement, inconvenience, loss of pay, and inability to access important and sometimes vital services within the health care system. In fact, there was a general trend within the populace toward avoiding meetings/gatherings, as well as kissing, hugging and even hand shaking. Clearly, these restrictions are reflective of a loss of civil liberties in the general population and render expressions of caring difficult at a time when people may need them the most.In a health care institution, visitation restrictions not only affect inpatients but also have an impact on ambulatory patients who must come for diagnostic tests or interventions and who, if deprived access, might develop urgent or emergent conditions. Restrictions are likely to cause distress, anxiety and increased complaints. In fact, on review of the University Health Network corporate complaint database, SARS 1 (period March 28–April 20, 2003) and SARS 2 (period May 12–August 10, 2003) generated a 27% increase in complaints over the expected number of complaints for that time period. Specifically, during this time period there would normally have been 770 calls of complaint, but with SARS 1 and 2 a total of 1052 calls of complaint were received. It should be stressed that these data are over and above the complaints received at each site of the corporation, which were not captured in the database. Ultimately, this is a set of problems that must be managed with sensitivity and clarity (Nyhof-Young and colleagues, unpublished data).In view of the magnitude of implications of visitor restriction, it is important that policy decisions, at the micro or macro level, consider issues of equity, publicity, transparency and the appeal process. Issues of equity must take into consideration the known facts from a scientific perspective as well as the range of approaches considered. In terms of transparency and due diligence, the rationale behind the policies and how they will be implemented should be as clear and unambiguous as possible. Feedback should be sought from those individuals who would be affected by visitation restrictions, such as staff, patients and family members. The policy must be made accessible, printed and broadly circulated throughout the hospital so that people understand the rules, the rationale for those rules, the processes available to them to assist them in 'living with those rules' and ways to appeal in special circumstances.Visitation policy developers must realize that there may be exceptional circumstances that demand exceptional latitude. The development of criteria for exceptionality must recognize the need for proportionality, ensuring that criteria are 'relevant, legitimate and necessary ... and should be applied without discrimination' [1]. Furthermore, to be consistent with expectations of transparency, the criteria by which exceptionality to the rules of visitation restriction exists should also be published openly throughout the organization for staff, patients and visitors. From our experience with SARS, a corporate policy was developed and there was an expectation that there would be compliance with this corporate policy. However, it was also acknowledged that local patient needs would dictate more or less stringent adherence to these rules, and that the degree of adherence might change quickly without the opportunity for broad notification. For example, although current policy allows for specific times of visitation and numbers of visitors per day, a sudden outbreak might dictate a quick lockdown of the facility without patients or family members receiving prior notice.\\n\\nHealth care workers' duty to care and the duty of institutions to support them\\n\\nA health care professional has a duty to care, based on several ethical considerations [1] such as professional code of conduct, intrinsic requirements of the work and the acceptance of risk as part of the decision to do a specific type of work. Part of this duty to care for patients encompasses a broader duty, in that one must care for their family as well. Visitation restrictions impede this ability because health care providers find themselves in the awkward position of conveying very private, personal messages between patients and family members, of providing updates and of breaking bad news over the phone, thus losing their ability to convey empathy or judge the amount of support required effectively. Moreover, health care workers, being in direct communication with patients and families, bear the brunt of their anger and frustration regarding any restriction in visitation.There is an implicit acceptance that reciprocity exists between the hospital organization and the individual staff member [1]. To this end, it is the organization that must accept responsibility for making rules and communicating them broadly to all staff, patients and visitors. Similarly, it is the responsibility of the organization to enforce compliance with these rules; it is not the responsibility of staff, whose primary responsibility is to discharge the duty of care to the patient. The organization also has the responsibility of developing a set of criteria outlining exceptionality and a process to receive, review and adjudicate requests. A process must be developed (together with appropriate resources) so that staff members know who to access for support and are able to do this is in an easy and expeditious manner.\\n\\nNaming names, naming communities: privacy of personal information and public need to know\\n\\nIn the interests of the public good, there may be times when information must be shared publicly, thereby impinging on the rights of the individual to privacy and confidentiality. With respect to restricted visitation, an ethical argument could be made that visitation restrictions (or latitude thereof) can be instituted generally, without specifically naming names. Although the vigilant observer might be able to identify a specific person from a changed application of the rule, the organization cannot reasonably be expected to guard against every possible identification, but every effort should be made to protect the individual from easy identification. For example, if a family is allowed to visit a patient whose death is presumed to be imminent (within the next 24 hours), then the patient's identity should be protected by using privacy strategies. Efforts to protect the patient's identity are consistent with the ethical value of 'protection of communities from undue stigmatization' [1].\\n\\nSARS in a globalized world\\n\\nGiven the risks associated with contagious pathogens and the easy mode of transmission globally, it is important that there be consistency in management. The ideal situation would be a consistent global approach to the management of each and every contagious pathogen. The notion of universal management strategies is very sensible (e.g. universal precautions with blood-borne conditions such HIV). However, given the political and economic disparities across the world as well as the lack of knowledge (particularly of newly evolving pathogens), a standardized approach is not possible.The experience of SARS indicates that some patient populations require a level of vigilance that is more stringent than that required in others. For example, those individuals who reported recent travel to high risk areas, and those who worked in quarantined or contaminated hospitals or who exhibited clear symptoms (e.g. fever, persistent cough) were scrutinized with more vigilance and were in fact treated differently than other visitors, until they were cleared through the screening process. This type of variability in vigilance demands ethical management of differences, and there is a need to guard against overt bias or discrimination creeping into the process.It is difficult to expect that both standardization of approach and variability in approach can easily coexist, but the operational challenge is to exercise awareness of the ethical values discussed above and the appropriate due diligence in the implementation of processes.\\n\\nConclusion\\n\\nIt is ethical to accept that public health protection trumps individual rights to liberal visitation. The rationale for this position must be fully outlined to patients, visitors and staff.In responding to visitors who may be deprived of visitation, it is ethical to recognize that there may be exceptional circumstances that demand exceptional latitude. A set of criteria outlining exceptionality should be developed, as should a process to receive, review and adjudicate requests. In the interests of equity, an appeal process should be made explicit and transparent to all. This information should be well publicized to staff, patients and visitors in a consistent and sensitive manner. Every reasonable effort should be made to protect the individual patient's identity and their specific health status should exceptionality be considered.It is ethically the responsibility of the organization to enforce compliance with restricted visitation and a corporate department should be assigned this task.Although it is recognized that standardization in the application of visitation restrictions is necessary, there is recognition that there may be circumstances that would require deviation from the corporate position.\\n\\nCompeting interests\\n\\nThe author has declared no competing interests.\\n\\nAbbreviations\\n\\nSARS = severe acute respiratory syndrome\\n\\n\""
      ]
     },
     "execution_count": 68,
     "metadata": {},
     "output_type": "execute_result"
    }
   ],
   "source": [
    "#Generate a single article from all the articles. \n",
    "text=entire_df ['text_body'][1]\n",
    "text"
   ]
  },
  {
   "cell_type": "code",
   "execution_count": 69,
   "metadata": {},
   "outputs": [],
   "source": [
    "#Split Text into Sentences\n",
    "# break the text into individual sentences. using the sent_tokenize( ) function of the nltk library to do this.\n",
    "#Flattening lists means converting a multidimensional or nested list into a one-dimensional list.\n",
    "from nltk.tokenize import sent_tokenize\n",
    "sentences= sent_tokenize(text)\n",
    "\n",
    "\n"
   ]
  },
  {
   "cell_type": "code",
   "execution_count": 70,
   "metadata": {},
   "outputs": [
    {
     "data": {
      "text/plain": [
       "['Introduction\\n\\nThe sudden emergence of severe acute respiratory syndrome (SARS) in April 2003 caused much concern and reaction.',\n",
       " 'Refereed medical journals ever since have been rife with articles about SARS.',\n",
       " 'The eventual containment and treatment of SARS has seen a diminution of the massive media publicity and overt public concern.',\n",
       " 'However, fears have recently surfaced about the potential for re-emergence of SARS in the near future.',\n",
       " 'As we confront the potential need to return to more stringent infection control measures once again, this is an appropriate time to reflect on the ethical values that underlay the strict visitation restrictions imposed in hospitals in Ontario during the SARS outbreak and the moderate restrictions in place since SARS.']"
      ]
     },
     "execution_count": 70,
     "metadata": {},
     "output_type": "execute_result"
    }
   ],
   "source": [
    "#Let’s print a few elements of the list sentences.\n",
    "\n",
    "sentences[:5]"
   ]
  },
  {
   "cell_type": "code",
   "execution_count": 71,
   "metadata": {},
   "outputs": [],
   "source": [
    "# Extract word vectors\n",
    "#GloVe is a commonly used algorithm for natural language processing (NLP). It was trained on Wikipedia and Gigawords.\n",
    "#Get the word embeddings\n",
    "# https://www.kaggle.com/datasets/thanakomsn/glove6b300dtxt\n",
    "word_embeddings = {}\n",
    "f = open(\"archive/glove.6B.300d.txt\", encoding='utf-8')\n",
    "for line in f:\n",
    "    values = line.split()\n",
    "    word = values[0]\n",
    "    coefs = np.asarray(values[1:], dtype='float32')\n",
    "    word_embeddings[word] = coefs\n",
    "f.close()"
   ]
  },
  {
   "cell_type": "code",
   "execution_count": 72,
   "metadata": {},
   "outputs": [
    {
     "data": {
      "text/plain": [
       "400000"
      ]
     },
     "execution_count": 72,
     "metadata": {},
     "output_type": "execute_result"
    }
   ],
   "source": [
    "#Getting the number of word embeddings in this glove model \n",
    "len(word_embeddings)\n"
   ]
  },
  {
   "cell_type": "code",
   "execution_count": 73,
   "metadata": {},
   "outputs": [],
   "source": [
    "# remove punctuations, numbers and special characters\n",
    "clean_sentences = pd.Series(sentences).str.replace(\"[^a-zA-Z]\", \" \")\n",
    "\n",
    "# make alphabets lowercase\n",
    "clean_sentences = [s.lower() for s in clean_sentences]"
   ]
  },
  {
   "cell_type": "code",
   "execution_count": 74,
   "metadata": {},
   "outputs": [
    {
     "name": "stderr",
     "output_type": "stream",
     "text": [
      "[nltk_data] Error loading stopwords: <urlopen error [WinError 10060] A\n",
      "[nltk_data]     connection attempt failed because the connected party\n",
      "[nltk_data]     did not properly respond after a period of time, or\n",
      "[nltk_data]     established connection failed because connected host\n",
      "[nltk_data]     has failed to respond>\n"
     ]
    }
   ],
   "source": [
    "#Get rid of the stopwords (commonly used words of a language – is, am, the, of, in, etc.) present in the sentences. \n",
    "#If you have not downloaded nltk-stopwords, then execute the following line of code:\n",
    "\n",
    "nltk.download('stopwords')\n",
    "#Now we can import the stopwords.\n",
    "\n",
    "from nltk.corpus import stopwords\n",
    "stop_words = stopwords.words('english')\n",
    "#Let’s define a function to remove these stopwords from our dataset.\n",
    "\n",
    "# function to remove stopwords\n",
    "def remove_stopwords(sen):\n",
    "    sen_new = \" \".join([i for i in sen if i not in stop_words])\n",
    "    return sen_new\n",
    "# remove stopwords from the sentences\n",
    "clean_sentences = [remove_stopwords(r.split()) for r in clean_sentences]\n",
    "#We will use clean_sentences to create vectors for sentences in our data with the help of the GloVe word vectors."
   ]
  },
  {
   "cell_type": "code",
   "execution_count": 75,
   "metadata": {},
   "outputs": [
    {
     "data": {
      "text/plain": [
       "['introduction sudden emergence severe acute respiratory syndrome (sars) april 2003 caused much concern reaction.',\n",
       " 'refereed medical journals ever since rife articles sars.',\n",
       " 'eventual containment treatment sars seen diminution massive media publicity overt public concern.',\n",
       " 'however, fears recently surfaced potential re-emergence sars near future.',\n",
       " 'confront potential need return stringent infection control measures again, appropriate time reflect ethical values underlay strict visitation restrictions imposed hospitals ontario sars outbreak moderate restrictions place since sars.',\n",
       " 'reflection facilitate future decision making respect visitation restrictions.',\n",
       " 'public health trumps civil liberties: collateral damage associated victims sars infectious disease colleagues adamant restricting movement people around hospital setting effective clinical epidemiological strategies help protect vulnerable patient population health care providers themselves, need stay healthy may care patients.',\n",
       " 'one might argue, then, visitation restrictions enhancing supportive public health protection.',\n",
       " 'position recognizes times public health protection overrides protection individual freedom.',\n",
       " \"could argued visitation restrictions, light potential outbreak contagious disease, ethically sound compelling need protect public health.however, even public health concerns trump individual liberties, ethical operationalization value would demand 'those whose rights infringed' need managed 'an ethical even-handed manner unfairly disproportionately harmed measures' [1].this important far-reaching consideration sars caused collateral damage know implementation visitation restrictions impact broad range individuals.\",\n",
       " 'understandably, patients confirmed suspected carriers contagious pathogens easily directly identified.',\n",
       " 'however, people demonstrated risk epidemiological link contagious disease experienced quarantine, restriction movement, inconvenience, loss pay, inability access important sometimes vital services within health care system.',\n",
       " 'fact, general trend within populace toward avoiding meetings/gatherings, well kissing, hugging even hand shaking.',\n",
       " 'clearly, restrictions reflective loss civil liberties general population render expressions caring difficult time people may need most.in health care institution, visitation restrictions affect inpatients also impact ambulatory patients must come diagnostic tests interventions who, deprived access, might develop urgent emergent conditions.',\n",
       " 'restrictions likely cause distress, anxiety increased complaints.',\n",
       " 'fact, review university health network corporate complaint database, sars 1 (period march 28–april 20, 2003) sars 2 (period may 12–august 10, 2003) generated 27% increase complaints expected number complaints time period.',\n",
       " 'specifically, time period would normally 770 calls complaint, sars 1 2 total 1052 calls complaint received.',\n",
       " 'stressed data complaints received site corporation, captured database.',\n",
       " 'ultimately, set problems must managed sensitivity clarity (nyhof-young colleagues, unpublished data).in view magnitude implications visitor restriction, important policy decisions, micro macro level, consider issues equity, publicity, transparency appeal process.',\n",
       " 'issues equity must take consideration known facts scientific perspective well range approaches considered.',\n",
       " 'terms transparency due diligence, rationale behind policies implemented clear unambiguous possible.',\n",
       " 'feedback sought individuals would affected visitation restrictions, staff, patients family members.',\n",
       " \"policy must made accessible, printed broadly circulated throughout hospital people understand rules, rationale rules, processes available assist 'living rules' ways appeal special circumstances.visitation policy developers must realize may exceptional circumstances demand exceptional latitude.\",\n",
       " \"development criteria exceptionality must recognize need proportionality, ensuring criteria 'relevant, legitimate necessary ... applied without discrimination' [1].\",\n",
       " 'furthermore, consistent expectations transparency, criteria exceptionality rules visitation restriction exists also published openly throughout organization staff, patients visitors.',\n",
       " 'experience sars, corporate policy developed expectation would compliance corporate policy.',\n",
       " 'however, also acknowledged local patient needs would dictate less stringent adherence rules, degree adherence might change quickly without opportunity broad notification.',\n",
       " 'example, although current policy allows specific times visitation numbers visitors per day, sudden outbreak might dictate quick lockdown facility without patients family members receiving prior notice.',\n",
       " \"health care workers' duty care duty institutions support health care professional duty care, based several ethical considerations [1] professional code conduct, intrinsic requirements work acceptance risk part decision specific type work.\",\n",
       " 'part duty care patients encompasses broader duty, one must care family well.',\n",
       " 'visitation restrictions impede ability health care providers find awkward position conveying private, personal messages patients family members, providing updates breaking bad news phone, thus losing ability convey empathy judge amount support required effectively.',\n",
       " 'moreover, health care workers, direct communication patients families, bear brunt anger frustration regarding restriction visitation.there implicit acceptance reciprocity exists hospital organization individual staff member [1].',\n",
       " 'end, organization must accept responsibility making rules communicating broadly staff, patients visitors.',\n",
       " 'similarly, responsibility organization enforce compliance rules; responsibility staff, whose primary responsibility discharge duty care patient.',\n",
       " 'organization also responsibility developing set criteria outlining exceptionality process receive, review adjudicate requests.',\n",
       " 'process must developed (together appropriate resources) staff members know access support able easy expeditious manner.',\n",
       " 'naming names, naming communities: privacy personal information public need know interests public good, may times information must shared publicly, thereby impinging rights individual privacy confidentiality.',\n",
       " 'respect restricted visitation, ethical argument could made visitation restrictions (or latitude thereof) instituted generally, without specifically naming names.',\n",
       " 'although vigilant observer might able identify specific person changed application rule, organization cannot reasonably expected guard every possible identification, every effort made protect individual easy identification.',\n",
       " \"example, family allowed visit patient whose death presumed imminent (within next 24 hours), patient's identity protected using privacy strategies.\",\n",
       " \"efforts protect patient's identity consistent ethical value 'protection communities undue stigmatization' [1].\",\n",
       " 'sars globalized world given risks associated contagious pathogens easy mode transmission globally, important consistency management.',\n",
       " 'ideal situation would consistent global approach management every contagious pathogen.',\n",
       " 'notion universal management strategies sensible (e.g.',\n",
       " 'universal precautions blood-borne conditions hiv).',\n",
       " 'however, given political economic disparities across world well lack knowledge (particularly newly evolving pathogens), standardized approach possible.the experience sars indicates patient populations require level vigilance stringent required others.',\n",
       " 'example, individuals reported recent travel high risk areas, worked quarantined contaminated hospitals exhibited clear symptoms (e.g.',\n",
       " 'fever, persistent cough) scrutinized vigilance fact treated differently visitors, cleared screening process.',\n",
       " 'type variability vigilance demands ethical management differences, need guard overt bias discrimination creeping process.it difficult expect standardization approach variability approach easily coexist, operational challenge exercise awareness ethical values discussed appropriate due diligence implementation processes.',\n",
       " 'conclusion ethical accept public health protection trumps individual rights liberal visitation.',\n",
       " 'rationale position must fully outlined patients, visitors staff.in responding visitors may deprived visitation, ethical recognize may exceptional circumstances demand exceptional latitude.',\n",
       " 'set criteria outlining exceptionality developed, process receive, review adjudicate requests.',\n",
       " 'interests equity, appeal process made explicit transparent all.',\n",
       " 'information well publicized staff, patients visitors consistent sensitive manner.',\n",
       " \"every reasonable effort made protect individual patient's identity specific health status exceptionality considered.it ethically responsibility organization enforce compliance restricted visitation corporate department assigned task.although recognized standardization application visitation restrictions necessary, recognition may circumstances would require deviation corporate position.\",\n",
       " 'competing interests author declared competing interests.',\n",
       " 'abbreviations sars = severe acute respiratory syndrome']"
      ]
     },
     "execution_count": 75,
     "metadata": {},
     "output_type": "execute_result"
    }
   ],
   "source": [
    "clean_sentences"
   ]
  },
  {
   "cell_type": "code",
   "execution_count": 76,
   "metadata": {},
   "outputs": [],
   "source": [
    "# Extract word vectors\n",
    "word_embeddings = {}\n",
    "f = open(\"archive/glove.6B.300d.txt\", encoding='utf-8')\n",
    "for line in f:\n",
    "    values = line.split()\n",
    "    word = values[0]\n",
    "    coefs = np.asarray(values[1:], dtype='float32')\n",
    "    word_embeddings[word] = coefs\n",
    "f.close()"
   ]
  },
  {
   "cell_type": "code",
   "execution_count": 77,
   "metadata": {},
   "outputs": [],
   "source": [
    "#Now, let’s create vectors for our sentences. \n",
    "#We will first fetch vectors (each of size 100 elements) for the constituent words in a sentence and then \n",
    "#take mean/average of those vectors to arrive at a consolidated vector for the sentence.\n",
    "\n",
    "sentence_vectors = []\n",
    "for i in clean_sentences:\n",
    "  if len(i) != 0:\n",
    "    v = sum([word_embeddings.get(w, np.zeros((300,))) for w in i.split()])/(len(i.split())+0.003)\n",
    "  else:\n",
    "    v = np.zeros((300,))\n",
    "  sentence_vectors.append(v)"
   ]
  },
  {
   "cell_type": "code",
   "execution_count": 78,
   "metadata": {},
   "outputs": [],
   "source": [
    "# similarity matrix\n",
    "sim_mat = np.zeros([len(sentences), len(sentences)])\n",
    "#We will use Cosine Similarity to compute the similarity between a pair of sentences.\n",
    "\n",
    "from sklearn.metrics.pairwise import cosine_similarity\n",
    "#And initialize the matrix with cosine similarity scores.\n",
    "\n",
    "for i in range(len(sentences)):\n",
    "  for j in range(len(sentences)):\n",
    "    if i != j:\n",
    "      sim_mat[i][j] = cosine_similarity(sentence_vectors[i].reshape(1,300), sentence_vectors[j].reshape(1,300))[0,0]\n",
    " "
   ]
  },
  {
   "cell_type": "code",
   "execution_count": 79,
   "metadata": {},
   "outputs": [],
   "source": [
    "import networkx as nx\n",
    "\n",
    "nx_graph = nx.from_numpy_array(sim_mat)\n",
    "scores = nx.pagerank(nx_graph)\n",
    " "
   ]
  },
  {
   "cell_type": "code",
   "execution_count": 80,
   "metadata": {},
   "outputs": [
    {
     "name": "stdout",
     "output_type": "stream",
     "text": [
      "It could be argued that visitation restrictions, in light of a potential outbreak of a contagious disease, are ethically sound because of the compelling need to protect public health.However, even when public health concerns trump individual liberties, the ethical operationalization of this value would demand that 'those whose rights are being infringed' need to be managed in 'an ethical and even-handed manner so that they are not unfairly or disproportionately harmed by such measures' [1].This is an important and far-reaching consideration because SARS caused collateral damage and we know that the implementation of visitation restrictions will have an impact on a broad range of individuals.\n"
     ]
    }
   ],
   "source": [
    "#Summary Extraction\n",
    "#Finally,  extract the top N sentences based on their rankings for summary generation.\n",
    "summary = sorted(((scores[i],s) for i,s in enumerate(sentences)), reverse=True)\n",
    "# Extract no1 ranked sentences as the summary\n",
    "for i in range(1):\n",
    "    print(summary[i][1])"
   ]
  },
  {
   "cell_type": "code",
   "execution_count": 81,
   "metadata": {},
   "outputs": [
    {
     "data": {
      "text/plain": [
       "{'rouge1': Score(precision=0.44036697247706424, recall=0.2962962962962963, fmeasure=0.3542435424354244),\n",
       " 'rouge2': Score(precision=0.09259259259259259, recall=0.062111801242236024, fmeasure=0.07434944237918215)}"
      ]
     },
     "execution_count": 81,
     "metadata": {},
     "output_type": "execute_result"
    }
   ],
   "source": [
    "#Evaluation\n",
    "#Read reference summary\n",
    "ref_summary = '''Our infectious disease colleagues are adamant that restricting the movement of people into and around the hospital setting are effective clinical and epidemiological strategies that will help protect both the vulnerable patient population and health care providers themselves, \n",
    "who need to stay healthy so that they may care for their patients. In a health care institution, visitation restrictions not only affect inpatients but also have an impact on ambulatory patients who must come for diagnostic tests or interventions and who, if deprived access, might develop urgent or emergent conditions.\n",
    "Feedback should be sought from those individuals who would be affected by visitation restrictions, such as staff, patients and family members.Health care workers, being in direct communication with patients and families, bear the brunt of their anger and frustration regarding any restriction in visitation.\n",
    "If a family is allowed to visit a patient whose death is presumed to be imminent, then the patient's identity should be protected by using privacy strategies.\n",
    "'''\n",
    "summary = '''It could be argued that visitation restrictions, in light of a potential outbreak of a contagious disease, \n",
    "are ethically sound because of the compelling need to protect public health.However, even when public health concerns trump \n",
    "individual liberties, the ethical operationalization of this value would demand that 'those whose rights are being infringed' \n",
    "need to be managed in 'an ethical and even-handed manner so that they are not unfairly or disproportionately harmed by such \n",
    "measures' [1].This is an important and far-reaching consideration because SARS caused collateral damage and we know that the \n",
    "implementation of visitation restrictions will have an impact on a broad range of individuals.'''\n",
    "\n",
    "#The abstract is the target: Text containing the target (ground truth) text.- The Gold Standard\n",
    "# the summary generated is the prediction: Text containing the predicted text.\n",
    "\n",
    "\n",
    "from rouge_score import rouge_scorer\n",
    "\n",
    "scorer = rouge_scorer.RougeScorer(['rouge1','rouge2'], use_stemmer=True)\n",
    "scores = scorer.score(ref_summary,summary)\n",
    "\n",
    "scores"
   ]
  }
 ],
 "metadata": {
  "kernelspec": {
   "display_name": "Python 3",
   "language": "python",
   "name": "python3"
  },
  "language_info": {
   "codemirror_mode": {
    "name": "ipython",
    "version": 3
   },
   "file_extension": ".py",
   "mimetype": "text/x-python",
   "name": "python",
   "nbconvert_exporter": "python",
   "pygments_lexer": "ipython3",
   "version": "3.12.2"
  }
 },
 "nbformat": 4,
 "nbformat_minor": 4
}
